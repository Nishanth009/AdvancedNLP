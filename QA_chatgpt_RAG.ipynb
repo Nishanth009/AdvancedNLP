{
 "cells": [
  {
   "cell_type": "markdown",
   "id": "124e5672",
   "metadata": {},
   "source": [
    "# Custom QA-bot Project"
   ]
  },
  {
   "cell_type": "markdown",
   "id": "2a4a94b3",
   "metadata": {},
   "source": [
    "The data selected for the project is \"character_descriptions.csv\", which contains charactor descriptions, medium and location/setting. This dataset contains mostly text descriptions with informations spanned over multiple sentences. This is very suited for the gpt models to understand and respond. Multiple questions can be asked by the chatbot user to understand more about these charactors and get grounded answers from chat model. This is the primary reason for selecting this dataset"
   ]
  },
  {
   "cell_type": "markdown",
   "id": "a63d4c5f",
   "metadata": {},
   "source": [
    "## Data Wrangling\n"
   ]
  },
  {
   "cell_type": "code",
   "execution_count": 2,
   "id": "c69b83a1",
   "metadata": {},
   "outputs": [],
   "source": [
    "import os\n",
    "import pandas as pd"
   ]
  },
  {
   "cell_type": "code",
   "execution_count": 3,
   "id": "eaadb544",
   "metadata": {},
   "outputs": [
    {
     "data": {
      "text/plain": [
       "['.ipynb_checkpoints',\n",
       " 'nyc_food_scrap_drop_off_sites.csv',\n",
       " 'character_descriptions.csv',\n",
       " '2023_fashion_trends.csv']"
      ]
     },
     "execution_count": 3,
     "metadata": {},
     "output_type": "execute_result"
    }
   ],
   "source": [
    "os.listdir(\"./data\")"
   ]
  },
  {
   "cell_type": "code",
   "execution_count": 25,
   "id": "0a595980",
   "metadata": {},
   "outputs": [],
   "source": [
    "raw_data = pd.read_csv(\"./data/character_descriptions.csv\")"
   ]
  },
  {
   "cell_type": "code",
   "execution_count": 29,
   "id": "da4a36ae",
   "metadata": {},
   "outputs": [
    {
     "data": {
      "text/html": [
       "<div>\n",
       "<style scoped>\n",
       "    .dataframe tbody tr th:only-of-type {\n",
       "        vertical-align: middle;\n",
       "    }\n",
       "\n",
       "    .dataframe tbody tr th {\n",
       "        vertical-align: top;\n",
       "    }\n",
       "\n",
       "    .dataframe thead th {\n",
       "        text-align: right;\n",
       "    }\n",
       "</style>\n",
       "<table border=\"1\" class=\"dataframe\">\n",
       "  <thead>\n",
       "    <tr style=\"text-align: right;\">\n",
       "      <th></th>\n",
       "      <th>Name</th>\n",
       "      <th>Description</th>\n",
       "      <th>Medium</th>\n",
       "      <th>Setting</th>\n",
       "      <th>text</th>\n",
       "    </tr>\n",
       "  </thead>\n",
       "  <tbody>\n",
       "    <tr>\n",
       "      <th>0</th>\n",
       "      <td>Emily</td>\n",
       "      <td>A young woman in her early 20s, Emily is an as...</td>\n",
       "      <td>Play</td>\n",
       "      <td>England</td>\n",
       "      <td>A young woman in her early 20s, Emily is an as...</td>\n",
       "    </tr>\n",
       "    <tr>\n",
       "      <th>1</th>\n",
       "      <td>Jack</td>\n",
       "      <td>A middle-aged man in his 40s, Jack is a succes...</td>\n",
       "      <td>Play</td>\n",
       "      <td>England</td>\n",
       "      <td>A middle-aged man in his 40s, Jack is a succes...</td>\n",
       "    </tr>\n",
       "    <tr>\n",
       "      <th>2</th>\n",
       "      <td>Alice</td>\n",
       "      <td>A woman in her late 30s, Alice is a warm and n...</td>\n",
       "      <td>Play</td>\n",
       "      <td>England</td>\n",
       "      <td>A woman in her late 30s, Alice is a warm and n...</td>\n",
       "    </tr>\n",
       "    <tr>\n",
       "      <th>3</th>\n",
       "      <td>Tom</td>\n",
       "      <td>A man in his 50s, Tom is a retired soldier and...</td>\n",
       "      <td>Play</td>\n",
       "      <td>England</td>\n",
       "      <td>A man in his 50s, Tom is a retired soldier and...</td>\n",
       "    </tr>\n",
       "    <tr>\n",
       "      <th>4</th>\n",
       "      <td>Sarah</td>\n",
       "      <td>A woman in her mid-20s, Sarah is a free-spirit...</td>\n",
       "      <td>Play</td>\n",
       "      <td>England</td>\n",
       "      <td>A woman in her mid-20s, Sarah is a free-spirit...</td>\n",
       "    </tr>\n",
       "  </tbody>\n",
       "</table>\n",
       "</div>"
      ],
      "text/plain": [
       "    Name                                        Description Medium  Setting  \\\n",
       "0  Emily  A young woman in her early 20s, Emily is an as...   Play  England   \n",
       "1   Jack  A middle-aged man in his 40s, Jack is a succes...   Play  England   \n",
       "2  Alice  A woman in her late 30s, Alice is a warm and n...   Play  England   \n",
       "3    Tom  A man in his 50s, Tom is a retired soldier and...   Play  England   \n",
       "4  Sarah  A woman in her mid-20s, Sarah is a free-spirit...   Play  England   \n",
       "\n",
       "                                                text  \n",
       "0  A young woman in her early 20s, Emily is an as...  \n",
       "1  A middle-aged man in his 40s, Jack is a succes...  \n",
       "2  A woman in her late 30s, Alice is a warm and n...  \n",
       "3  A man in his 50s, Tom is a retired soldier and...  \n",
       "4  A woman in her mid-20s, Sarah is a free-spirit...  "
      ]
     },
     "execution_count": 29,
     "metadata": {},
     "output_type": "execute_result"
    }
   ],
   "source": [
    "raw_data.head()"
   ]
  },
  {
   "cell_type": "code",
   "execution_count": 77,
   "id": "acb3a9fd",
   "metadata": {},
   "outputs": [],
   "source": [
    "#join all details to text column\n",
    "raw_data[\"text\"] = raw_data[\"Description\"] + \"This charactor is featured in \" + raw_data[\"Medium\"] + \" and location setting at \"+raw_data[\"Setting\"]"
   ]
  },
  {
   "cell_type": "code",
   "execution_count": 78,
   "id": "b1d57dec",
   "metadata": {},
   "outputs": [
    {
     "data": {
      "text/plain": [
       "\"A young woman in her early 20s, Emily is an aspiring actress and Alice's daughter. She has a bubbly personality and a quick wit, but struggles with self-doubt and insecurity. She's also in a relationship with George.This charactor is featured in Play and location setting at England\""
      ]
     },
     "execution_count": 78,
     "metadata": {},
     "output_type": "execute_result"
    }
   ],
   "source": [
    "df = raw_data[\"text\"]\n",
    "df.iloc[0]"
   ]
  },
  {
   "cell_type": "code",
   "execution_count": 79,
   "id": "67f82714",
   "metadata": {},
   "outputs": [
    {
     "data": {
      "text/html": [
       "<div>\n",
       "<style scoped>\n",
       "    .dataframe tbody tr th:only-of-type {\n",
       "        vertical-align: middle;\n",
       "    }\n",
       "\n",
       "    .dataframe tbody tr th {\n",
       "        vertical-align: top;\n",
       "    }\n",
       "\n",
       "    .dataframe thead th {\n",
       "        text-align: right;\n",
       "    }\n",
       "</style>\n",
       "<table border=\"1\" class=\"dataframe\">\n",
       "  <thead>\n",
       "    <tr style=\"text-align: right;\">\n",
       "      <th></th>\n",
       "      <th>text</th>\n",
       "    </tr>\n",
       "  </thead>\n",
       "  <tbody>\n",
       "    <tr>\n",
       "      <th>0</th>\n",
       "      <td>A young woman in her early 20s, Emily is an as...</td>\n",
       "    </tr>\n",
       "    <tr>\n",
       "      <th>1</th>\n",
       "      <td>A middle-aged man in his 40s, Jack is a succes...</td>\n",
       "    </tr>\n",
       "    <tr>\n",
       "      <th>2</th>\n",
       "      <td>A woman in her late 30s, Alice is a warm and n...</td>\n",
       "    </tr>\n",
       "    <tr>\n",
       "      <th>3</th>\n",
       "      <td>A man in his 50s, Tom is a retired soldier and...</td>\n",
       "    </tr>\n",
       "    <tr>\n",
       "      <th>4</th>\n",
       "      <td>A woman in her mid-20s, Sarah is a free-spirit...</td>\n",
       "    </tr>\n",
       "  </tbody>\n",
       "</table>\n",
       "</div>"
      ],
      "text/plain": [
       "                                                text\n",
       "0  A young woman in her early 20s, Emily is an as...\n",
       "1  A middle-aged man in his 40s, Jack is a succes...\n",
       "2  A woman in her late 30s, Alice is a warm and n...\n",
       "3  A man in his 50s, Tom is a retired soldier and...\n",
       "4  A woman in her mid-20s, Sarah is a free-spirit..."
      ]
     },
     "execution_count": 79,
     "metadata": {},
     "output_type": "execute_result"
    }
   ],
   "source": [
    "#take only first 25 charactors\n",
    "df = pd.DataFrame(df[:25], columns=[\"text\"])\n",
    "df.head()"
   ]
  },
  {
   "cell_type": "markdown",
   "id": "ae769871",
   "metadata": {},
   "source": [
    "## Query Answering\n",
    "\n",
    "create a basic chat using chatgpt turbo instruct"
   ]
  },
  {
   "cell_type": "code",
   "execution_count": 38,
   "id": "582f0656",
   "metadata": {},
   "outputs": [],
   "source": [
    "import openai\n",
    "openai.api_key = \"\" #add your key to run!!!"
   ]
  },
  {
   "cell_type": "code",
   "execution_count": 39,
   "id": "8b6e1f75",
   "metadata": {},
   "outputs": [],
   "source": [
    "#direct chat with model without grounding\n",
    "def basic_chat(query):\n",
    "    prompt = f\"\"\"\n",
    "    Question: {query}\n",
    "    Answer:\n",
    "    \"\"\"\n",
    "    answer = openai.Completion.create(\n",
    "        model=\"gpt-3.5-turbo-instruct\",\n",
    "        prompt=prompt,\n",
    "        max_tokens=150\n",
    "    )[\"choices\"][0][\"text\"].strip()\n",
    "    print(answer)"
   ]
  },
  {
   "cell_type": "markdown",
   "id": "137f6ce5",
   "metadata": {},
   "source": [
    "## Create RAG based question answering \n",
    "\n",
    "#### steps: - \n",
    "\n",
    "#### 1. embedding creation\n",
    "#### 2. similarity search\n",
    "#### 3. adding context with prompt"
   ]
  },
  {
   "cell_type": "code",
   "execution_count": 80,
   "id": "c403f543",
   "metadata": {},
   "outputs": [
    {
     "data": {
      "text/html": [
       "<div>\n",
       "<style scoped>\n",
       "    .dataframe tbody tr th:only-of-type {\n",
       "        vertical-align: middle;\n",
       "    }\n",
       "\n",
       "    .dataframe tbody tr th {\n",
       "        vertical-align: top;\n",
       "    }\n",
       "\n",
       "    .dataframe thead th {\n",
       "        text-align: right;\n",
       "    }\n",
       "</style>\n",
       "<table border=\"1\" class=\"dataframe\">\n",
       "  <thead>\n",
       "    <tr style=\"text-align: right;\">\n",
       "      <th></th>\n",
       "      <th>text</th>\n",
       "      <th>embeddings</th>\n",
       "    </tr>\n",
       "  </thead>\n",
       "  <tbody>\n",
       "    <tr>\n",
       "      <th>0</th>\n",
       "      <td>A young woman in her early 20s, Emily is an as...</td>\n",
       "      <td>[-0.009494630619883537, -0.014824042096734047,...</td>\n",
       "    </tr>\n",
       "    <tr>\n",
       "      <th>1</th>\n",
       "      <td>A middle-aged man in his 40s, Jack is a succes...</td>\n",
       "      <td>[0.011266863904893398, -0.019644448533654213, ...</td>\n",
       "    </tr>\n",
       "    <tr>\n",
       "      <th>2</th>\n",
       "      <td>A woman in her late 30s, Alice is a warm and n...</td>\n",
       "      <td>[0.0067794108763337135, -0.010819331742823124,...</td>\n",
       "    </tr>\n",
       "    <tr>\n",
       "      <th>3</th>\n",
       "      <td>A man in his 50s, Tom is a retired soldier and...</td>\n",
       "      <td>[0.01814238354563713, -0.015497720800340176, -...</td>\n",
       "    </tr>\n",
       "    <tr>\n",
       "      <th>4</th>\n",
       "      <td>A woman in her mid-20s, Sarah is a free-spirit...</td>\n",
       "      <td>[-0.012886534444987774, -0.024789365008473396,...</td>\n",
       "    </tr>\n",
       "    <tr>\n",
       "      <th>5</th>\n",
       "      <td>A man in his early 30s, George is a charming a...</td>\n",
       "      <td>[-0.01977045275270939, -0.015234489925205708, ...</td>\n",
       "    </tr>\n",
       "    <tr>\n",
       "      <th>6</th>\n",
       "      <td>A woman in her late 20s, Rachel is a shy and i...</td>\n",
       "      <td>[-0.003998512867838144, -0.010049359872937202,...</td>\n",
       "    </tr>\n",
       "    <tr>\n",
       "      <th>7</th>\n",
       "      <td>A man in his 60s, John is a retired professor ...</td>\n",
       "      <td>[0.021669458597898483, -0.014908378012478352, ...</td>\n",
       "    </tr>\n",
       "    <tr>\n",
       "      <th>8</th>\n",
       "      <td>A middle-aged Latina woman in her 40s, Maria i...</td>\n",
       "      <td>[-0.006386805325746536, -0.00761336600407958, ...</td>\n",
       "    </tr>\n",
       "    <tr>\n",
       "      <th>9</th>\n",
       "      <td>A young African American man in his early 20s,...</td>\n",
       "      <td>[0.0062502180226147175, -0.026581238955259323,...</td>\n",
       "    </tr>\n",
       "    <tr>\n",
       "      <th>10</th>\n",
       "      <td>A white man in his mid-30s, Tyler is a tough-a...</td>\n",
       "      <td>[0.013034374453127384, -0.04222749173641205, -...</td>\n",
       "    </tr>\n",
       "    <tr>\n",
       "      <th>11</th>\n",
       "      <td>A white woman in her late 20s, Sonya is a free...</td>\n",
       "      <td>[0.007959879003465176, -0.03001178801059723, -...</td>\n",
       "    </tr>\n",
       "    <tr>\n",
       "      <th>12</th>\n",
       "      <td>A middle-aged Hispanic man in his 50s, Manuel ...</td>\n",
       "      <td>[-0.008731771260499954, -0.0185308326035738, -...</td>\n",
       "    </tr>\n",
       "    <tr>\n",
       "      <th>13</th>\n",
       "      <td>A white man in his early 40s, Will is a succes...</td>\n",
       "      <td>[-0.00024769187439233065, -0.03981008380651474...</td>\n",
       "    </tr>\n",
       "    <tr>\n",
       "      <th>14</th>\n",
       "      <td>A young Australian woman in her mid-20s, Mia i...</td>\n",
       "      <td>[-0.0086447075009346, -0.018993450328707695, 0...</td>\n",
       "    </tr>\n",
       "    <tr>\n",
       "      <th>15</th>\n",
       "      <td>A middle-aged Australian man in his 40s, Lucas...</td>\n",
       "      <td>[0.0017242112662643194, -0.015036954544484615,...</td>\n",
       "    </tr>\n",
       "    <tr>\n",
       "      <th>16</th>\n",
       "      <td>A young Indigenous Australian woman in her ear...</td>\n",
       "      <td>[-0.01254615094512701, -0.017032984644174576, ...</td>\n",
       "    </tr>\n",
       "    <tr>\n",
       "      <th>17</th>\n",
       "      <td>A white Australian man in his late 20s, Max is...</td>\n",
       "      <td>[0.0019965528044849634, -0.035703059285879135,...</td>\n",
       "    </tr>\n",
       "    <tr>\n",
       "      <th>18</th>\n",
       "      <td>A middle-aged Australian woman in her 50s, Ava...</td>\n",
       "      <td>[-0.00028650538297370076, -0.00558120850473642...</td>\n",
       "    </tr>\n",
       "    <tr>\n",
       "      <th>19</th>\n",
       "      <td>A seasoned performer with a larger-than-life p...</td>\n",
       "      <td>[-0.0251655001193285, -0.01575305126607418, 0....</td>\n",
       "    </tr>\n",
       "    <tr>\n",
       "      <th>20</th>\n",
       "      <td>A young up-and-coming performer, Johnny is ful...</td>\n",
       "      <td>[-0.03262035548686981, -0.02263694815337658, 0...</td>\n",
       "    </tr>\n",
       "    <tr>\n",
       "      <th>21</th>\n",
       "      <td>A sultry and dramatic performer, Sable exudes ...</td>\n",
       "      <td>[-0.019771311432123184, -0.01580127514898777, ...</td>\n",
       "    </tr>\n",
       "    <tr>\n",
       "      <th>22</th>\n",
       "      <td>A bubbly and vivacious performer, Dolly is a f...</td>\n",
       "      <td>[-0.031972482800483704, -0.021853948011994362,...</td>\n",
       "    </tr>\n",
       "    <tr>\n",
       "      <th>23</th>\n",
       "      <td>A fierce and competitive performer, Vixen is a...</td>\n",
       "      <td>[-0.027563532814383507, -0.026815684512257576,...</td>\n",
       "    </tr>\n",
       "    <tr>\n",
       "      <th>24</th>\n",
       "      <td>A chameleon-like performer, Karma is known for...</td>\n",
       "      <td>[0.0016733910888433456, -0.013965179212391376,...</td>\n",
       "    </tr>\n",
       "  </tbody>\n",
       "</table>\n",
       "</div>"
      ],
      "text/plain": [
       "                                                 text  \\\n",
       "0   A young woman in her early 20s, Emily is an as...   \n",
       "1   A middle-aged man in his 40s, Jack is a succes...   \n",
       "2   A woman in her late 30s, Alice is a warm and n...   \n",
       "3   A man in his 50s, Tom is a retired soldier and...   \n",
       "4   A woman in her mid-20s, Sarah is a free-spirit...   \n",
       "5   A man in his early 30s, George is a charming a...   \n",
       "6   A woman in her late 20s, Rachel is a shy and i...   \n",
       "7   A man in his 60s, John is a retired professor ...   \n",
       "8   A middle-aged Latina woman in her 40s, Maria i...   \n",
       "9   A young African American man in his early 20s,...   \n",
       "10  A white man in his mid-30s, Tyler is a tough-a...   \n",
       "11  A white woman in her late 20s, Sonya is a free...   \n",
       "12  A middle-aged Hispanic man in his 50s, Manuel ...   \n",
       "13  A white man in his early 40s, Will is a succes...   \n",
       "14  A young Australian woman in her mid-20s, Mia i...   \n",
       "15  A middle-aged Australian man in his 40s, Lucas...   \n",
       "16  A young Indigenous Australian woman in her ear...   \n",
       "17  A white Australian man in his late 20s, Max is...   \n",
       "18  A middle-aged Australian woman in her 50s, Ava...   \n",
       "19  A seasoned performer with a larger-than-life p...   \n",
       "20  A young up-and-coming performer, Johnny is ful...   \n",
       "21  A sultry and dramatic performer, Sable exudes ...   \n",
       "22  A bubbly and vivacious performer, Dolly is a f...   \n",
       "23  A fierce and competitive performer, Vixen is a...   \n",
       "24  A chameleon-like performer, Karma is known for...   \n",
       "\n",
       "                                           embeddings  \n",
       "0   [-0.009494630619883537, -0.014824042096734047,...  \n",
       "1   [0.011266863904893398, -0.019644448533654213, ...  \n",
       "2   [0.0067794108763337135, -0.010819331742823124,...  \n",
       "3   [0.01814238354563713, -0.015497720800340176, -...  \n",
       "4   [-0.012886534444987774, -0.024789365008473396,...  \n",
       "5   [-0.01977045275270939, -0.015234489925205708, ...  \n",
       "6   [-0.003998512867838144, -0.010049359872937202,...  \n",
       "7   [0.021669458597898483, -0.014908378012478352, ...  \n",
       "8   [-0.006386805325746536, -0.00761336600407958, ...  \n",
       "9   [0.0062502180226147175, -0.026581238955259323,...  \n",
       "10  [0.013034374453127384, -0.04222749173641205, -...  \n",
       "11  [0.007959879003465176, -0.03001178801059723, -...  \n",
       "12  [-0.008731771260499954, -0.0185308326035738, -...  \n",
       "13  [-0.00024769187439233065, -0.03981008380651474...  \n",
       "14  [-0.0086447075009346, -0.018993450328707695, 0...  \n",
       "15  [0.0017242112662643194, -0.015036954544484615,...  \n",
       "16  [-0.01254615094512701, -0.017032984644174576, ...  \n",
       "17  [0.0019965528044849634, -0.035703059285879135,...  \n",
       "18  [-0.00028650538297370076, -0.00558120850473642...  \n",
       "19  [-0.0251655001193285, -0.01575305126607418, 0....  \n",
       "20  [-0.03262035548686981, -0.02263694815337658, 0...  \n",
       "21  [-0.019771311432123184, -0.01580127514898777, ...  \n",
       "22  [-0.031972482800483704, -0.021853948011994362,...  \n",
       "23  [-0.027563532814383507, -0.026815684512257576,...  \n",
       "24  [0.0016733910888433456, -0.013965179212391376,...  "
      ]
     },
     "execution_count": 80,
     "metadata": {},
     "output_type": "execute_result"
    }
   ],
   "source": [
    "#generate embeddings\n",
    "EMBEDDING_MODEL_NAME = \"text-embedding-ada-002\"\n",
    "batch_size = 25\n",
    "embeddings = []\n",
    "for i in range(0, len(df), batch_size):\n",
    "    # Send text data to OpenAI model to get embeddings\n",
    "    response = openai.Embedding.create(\n",
    "        input=df.iloc[i:i+batch_size][\"text\"].tolist(),\n",
    "        engine=EMBEDDING_MODEL_NAME\n",
    "    )\n",
    "    \n",
    "    # Add embeddings to list\n",
    "    embeddings.extend([data[\"embedding\"] for data in response[\"data\"]])\n",
    "\n",
    "# Add embeddings list to dataframe\n",
    "df[\"embeddings\"] = embeddings\n",
    "df"
   ]
  },
  {
   "cell_type": "code",
   "execution_count": 81,
   "id": "9d2583cf",
   "metadata": {},
   "outputs": [],
   "source": [
    "from openai.embeddings_utils import get_embedding, distances_from_embeddings\n",
    "\n",
    "def get_rows_by_relevance(question, df):\n",
    "    \"\"\"\n",
    "    Function that takes in a question string and a dataframe containing\n",
    "    rows of text and associated embeddings, and returns the text in dataframe \n",
    "    which is most relevant for that question\n",
    "    \"\"\"\n",
    "    \n",
    "    # Get embeddings for the question text\n",
    "    question_embeddings = get_embedding(question, engine=EMBEDDING_MODEL_NAME)\n",
    "    \n",
    "    # Make a copy of the dataframe and add a \"distances\" column containing\n",
    "    # the cosine distances between each row's embeddings and the\n",
    "    # embeddings of the question\n",
    "    df_copy = df.copy()\n",
    "    df_copy[\"distances\"] = distances_from_embeddings(\n",
    "        question_embeddings,\n",
    "        df_copy[\"embeddings\"].values,\n",
    "        distance_metric=\"cosine\"\n",
    "    )\n",
    "    \n",
    "    # Sort the copied dataframe by the distances and return it\n",
    "    # (shorter distance = more relevant so we sort in ascending order)\n",
    "    df_copy.sort_values(\"distances\", ascending=True, inplace=True)\n",
    "    #take only first row in our case since each row has seperate charactor\n",
    "    return df_copy.iloc[0].text"
   ]
  },
  {
   "cell_type": "code",
   "execution_count": 82,
   "id": "c2ef4dd6",
   "metadata": {},
   "outputs": [],
   "source": [
    "import tiktoken\n",
    "\n",
    "def create_prompt(question, df, max_token_count):\n",
    "    \"\"\"\n",
    "    Given a question and a dataframe containing rows of text and their\n",
    "    embeddings, return a text prompt to send to a Completion model\n",
    "    \"\"\"\n",
    "    # Create a tokenizer that is designed to align with our embeddings\n",
    "    tokenizer = tiktoken.get_encoding(\"cl100k_base\")\n",
    "    \n",
    "    # Count the number of tokens in the prompt template and question\n",
    "    prompt_template = \"\"\"\n",
    "    Answer the question based on the context below, and if the question\n",
    "    can't be answered based on the context, say \"I don't know\"\n",
    "\n",
    "    Context: \n",
    "\n",
    "    {}\n",
    "\n",
    "    ---\n",
    "\n",
    "    Question: {}\n",
    "    Answer:\"\"\"\n",
    "\n",
    "    context = get_rows_by_relevance(question, df)\n",
    "    return prompt_template.format(context, question)\n",
    "    "
   ]
  },
  {
   "cell_type": "code",
   "execution_count": 83,
   "id": "b1fc3f9a",
   "metadata": {},
   "outputs": [
    {
     "name": "stdout",
     "output_type": "stream",
     "text": [
      "\n",
      "    Answer the question based on the context below, and if the question\n",
      "    can't be answered based on the context, say \"I don't know\"\n",
      "\n",
      "    Context: \n",
      "\n",
      "    A young woman in her early 20s, Emily is an aspiring actress and Alice's daughter. She has a bubbly personality and a quick wit, but struggles with self-doubt and insecurity. She's also in a relationship with George.This charactor is featured in Play and location setting at England\n",
      "\n",
      "    ---\n",
      "\n",
      "    Question: tell me about the charactor Emily\n",
      "    Answer:\n"
     ]
    }
   ],
   "source": [
    "print(create_prompt(\"tell me about the charactor Emily\", df, 100))"
   ]
  },
  {
   "cell_type": "code",
   "execution_count": 110,
   "id": "307f30c7",
   "metadata": {},
   "outputs": [],
   "source": [
    "COMPLETION_MODEL_NAME = \"gpt-3.5-turbo-instruct\"\n",
    "\n",
    "def custom_chat(\n",
    "    question, df, max_prompt_tokens=1800, max_answer_tokens=150\n",
    "):\n",
    "    \"\"\"\n",
    "    Given a question, a dataframe containing rows of text, and a maximum\n",
    "    number of desired tokens in the prompt and response, return the\n",
    "    answer to the question according to an OpenAI Completion model\n",
    "    \n",
    "    If the model produces an error, return an empty string\n",
    "    \"\"\"\n",
    "    \n",
    "    prompt = create_prompt(question, df, max_prompt_tokens)\n",
    "    \n",
    "    try:\n",
    "        response = openai.Completion.create(\n",
    "            model=COMPLETION_MODEL_NAME,\n",
    "            prompt=prompt,\n",
    "            max_tokens=max_answer_tokens\n",
    "        )\n",
    "        return response[\"choices\"][0][\"text\"].strip()\n",
    "    except Exception as e:\n",
    "        print(e)\n",
    "        return \"\""
   ]
  },
  {
   "cell_type": "markdown",
   "id": "1783f146",
   "metadata": {},
   "source": [
    "##  Performance Demonstration\n"
   ]
  },
  {
   "cell_type": "markdown",
   "id": "4f11fdc0",
   "metadata": {},
   "source": [
    "### Question 1"
   ]
  },
  {
   "cell_type": "code",
   "execution_count": 96,
   "id": "907cddc8",
   "metadata": {},
   "outputs": [],
   "source": [
    "query_1 = \"Explain personality of Emily in two sentences?\""
   ]
  },
  {
   "cell_type": "code",
   "execution_count": 97,
   "id": "4901c850",
   "metadata": {},
   "outputs": [
    {
     "name": "stdout",
     "output_type": "stream",
     "text": [
      "Emily is a complex and enigmatic character whose experiences and relationships shape her into a reclusive, controlling, and possibly disturbed person who is deeply attached to her family's past.\n"
     ]
    }
   ],
   "source": [
    "#basic prompting\n",
    "basic_chat(query_1)"
   ]
  },
  {
   "cell_type": "code",
   "execution_count": 111,
   "id": "bd7a093b",
   "metadata": {},
   "outputs": [
    {
     "data": {
      "text/plain": [
       "'Emily has a bubbly personality and a quick wit, but she also struggles with self-doubt and insecurity.'"
      ]
     },
     "execution_count": 111,
     "metadata": {},
     "output_type": "execute_result"
    }
   ],
   "source": [
    "#chat with RAG/grounding\n",
    "custom_chat(query_1, df)"
   ]
  },
  {
   "cell_type": "code",
   "execution_count": 99,
   "id": "e9a265c2",
   "metadata": {},
   "outputs": [
    {
     "data": {
      "text/plain": [
       "\"A young woman in her early 20s, Emily is an aspiring actress and Alice's daughter. She has a bubbly personality and a quick wit, but struggles with self-doubt and insecurity. She's also in a relationship with George.This charactor is featured in Play and location setting at England\""
      ]
     },
     "execution_count": 99,
     "metadata": {},
     "output_type": "execute_result"
    }
   ],
   "source": [
    "#check ground truth\n",
    "df.iloc[0].text"
   ]
  },
  {
   "cell_type": "markdown",
   "id": "6e86e37c",
   "metadata": {},
   "source": [
    "### Question 2"
   ]
  },
  {
   "cell_type": "code",
   "execution_count": 124,
   "id": "6f646989",
   "metadata": {},
   "outputs": [],
   "source": [
    "query_2 = \"Jack is married to whom?\""
   ]
  },
  {
   "cell_type": "code",
   "execution_count": 125,
   "id": "11c07a54",
   "metadata": {},
   "outputs": [
    {
     "name": "stdout",
     "output_type": "stream",
     "text": [
      "There is not enough information given to answer this question. We need to know more about Jack and his relationships in order to identify his spouse.\n"
     ]
    }
   ],
   "source": [
    "#basic prompting\n",
    "basic_chat(query_1)"
   ]
  },
  {
   "cell_type": "code",
   "execution_count": 127,
   "id": "ce951d33",
   "metadata": {},
   "outputs": [
    {
     "data": {
      "text/plain": [
       "'Alice'"
      ]
     },
     "execution_count": 127,
     "metadata": {},
     "output_type": "execute_result"
    }
   ],
   "source": [
    "#chat with RAG/grounding\n",
    "custom_chat(query_1, df)"
   ]
  },
  {
   "cell_type": "code",
   "execution_count": 130,
   "id": "64071ecc",
   "metadata": {},
   "outputs": [
    {
     "data": {
      "text/plain": [
       "\"A middle-aged man in his 40s, Jack is a successful businessman and Sarah's boss. He has a no-nonsense attitude, but is fiercely loyal to his friends and family. He's married to Alice.This charactor is featured in Play and location setting at England\""
      ]
     },
     "execution_count": 130,
     "metadata": {},
     "output_type": "execute_result"
    }
   ],
   "source": [
    "#check ground truth\n",
    "df.iloc[1].text"
   ]
  },
  {
   "cell_type": "markdown",
   "id": "b651a834",
   "metadata": {},
   "source": [
    "#### observations"
   ]
  },
  {
   "cell_type": "markdown",
   "id": "377e8631",
   "metadata": {},
   "source": [
    "1. with RAG/grounding using embeddings based retrived context the model is correctly able to answer the question based on underlying custom dataset\n",
    "2. model response is validated by cross checking with relvent row"
   ]
  },
  {
   "cell_type": "code",
   "execution_count": null,
   "id": "43dd8f65",
   "metadata": {},
   "outputs": [],
   "source": []
  }
 ],
 "metadata": {
  "kernelspec": {
   "display_name": "Python 3 (ipykernel)",
   "language": "python",
   "name": "python3"
  },
  "language_info": {
   "codemirror_mode": {
    "name": "ipython",
    "version": 3
   },
   "file_extension": ".py",
   "mimetype": "text/x-python",
   "name": "python",
   "nbconvert_exporter": "python",
   "pygments_lexer": "ipython3",
   "version": "3.9.18"
  }
 },
 "nbformat": 4,
 "nbformat_minor": 5
}
